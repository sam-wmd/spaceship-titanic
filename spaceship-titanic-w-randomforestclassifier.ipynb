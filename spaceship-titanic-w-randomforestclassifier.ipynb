{
 "cells": [
  {
   "cell_type": "code",
   "execution_count": 15,
   "id": "ebd4105c",
   "metadata": {},
   "outputs": [],
   "source": [
    "# install packages if necessary\n",
    "!pip3 install pandas\n",
    "!pip3 install numpy --upgrade"
   ]
  },
  {
   "cell_type": "code",
   "execution_count": 2,
   "id": "1d4333e2",
   "metadata": {
    "_cell_guid": "b1076dfc-b9ad-4769-8c92-a6c4dae69d19",
    "_uuid": "8f2839f25d086af736a60e9eeb907d3b93b6e0e5",
    "execution": {
     "iopub.execute_input": "2022-12-31T15:02:39.253848Z",
     "iopub.status.busy": "2022-12-31T15:02:39.252711Z",
     "iopub.status.idle": "2022-12-31T15:02:39.270535Z",
     "shell.execute_reply": "2022-12-31T15:02:39.269311Z"
    },
    "papermill": {
     "duration": 0.029297,
     "end_time": "2022-12-31T15:02:39.273717",
     "exception": false,
     "start_time": "2022-12-31T15:02:39.244420",
     "status": "completed"
    },
    "pycharm": {
     "is_executing": true
    },
    "tags": []
   },
   "outputs": [
    {
     "name": "stdout",
     "output_type": "stream",
     "text": [
      "./data/input\\test.csv\n",
      "./data/input\\train.csv\n"
     ]
    }
   ],
   "source": [
    "import numpy as np # linear algebra\n",
    "import pandas as pd # data processing, CSV file I/O (e.g. pd.read_csv)\n",
    "import matplotlib.pyplot as plt\n",
    "from sklearn.model_selection import train_test_split\n",
    "# Input data files are available in the read-only \"../input/\" directory\n",
    "# For example, running this (by clicking run or pressing Shift+Enter) will list all files under the input directory\n",
    "\n",
    "import os\n",
    "for dirname, _, filenames in os.walk('./data/input'):\n",
    "    for filename in filenames:\n",
    "        print(os.path.join(dirname, filename))"
   ]
  },
  {
   "cell_type": "markdown",
   "id": "2374ce9d",
   "metadata": {
    "papermill": {
     "duration": 0.004421,
     "end_time": "2022-12-31T15:02:46.644498",
     "exception": false,
     "start_time": "2022-12-31T15:02:46.640077",
     "status": "completed"
    },
    "tags": []
   },
   "source": [
    "# **1. Preprocessing**"
   ]
  },
  {
   "cell_type": "markdown",
   "id": "9ac08259",
   "metadata": {
    "papermill": {
     "duration": 0.004181,
     "end_time": "2022-12-31T15:02:46.653208",
     "exception": false,
     "start_time": "2022-12-31T15:02:46.649027",
     "status": "completed"
    },
    "tags": []
   },
   "source": [
    "## Modify 'Name' column : remove firstName and keep lastName of passengers\n",
    "#### *Tracking same family members might lead to better prediction*"
   ]
  },
  {
   "cell_type": "code",
   "execution_count": 3,
   "id": "b18a2dfe",
   "metadata": {
    "execution": {
     "iopub.execute_input": "2022-12-31T15:02:46.664456Z",
     "iopub.status.busy": "2022-12-31T15:02:46.663750Z",
     "iopub.status.idle": "2022-12-31T15:02:46.738931Z",
     "shell.execute_reply": "2022-12-31T15:02:46.737763Z"
    },
    "papermill": {
     "duration": 0.084054,
     "end_time": "2022-12-31T15:02:46.741764",
     "exception": false,
     "start_time": "2022-12-31T15:02:46.657710",
     "status": "completed"
    },
    "tags": []
   },
   "outputs": [
    {
     "data": {
      "text/html": [
       "<div>\n",
       "<style scoped>\n",
       "    .dataframe tbody tr th:only-of-type {\n",
       "        vertical-align: middle;\n",
       "    }\n",
       "\n",
       "    .dataframe tbody tr th {\n",
       "        vertical-align: top;\n",
       "    }\n",
       "\n",
       "    .dataframe thead th {\n",
       "        text-align: right;\n",
       "    }\n",
       "</style>\n",
       "<table border=\"1\" class=\"dataframe\">\n",
       "  <thead>\n",
       "    <tr style=\"text-align: right;\">\n",
       "      <th></th>\n",
       "      <th>PassengerId</th>\n",
       "      <th>HomePlanet</th>\n",
       "      <th>CryoSleep</th>\n",
       "      <th>Cabin</th>\n",
       "      <th>Destination</th>\n",
       "      <th>Age</th>\n",
       "      <th>VIP</th>\n",
       "      <th>RoomService</th>\n",
       "      <th>FoodCourt</th>\n",
       "      <th>ShoppingMall</th>\n",
       "      <th>Spa</th>\n",
       "      <th>VRDeck</th>\n",
       "      <th>Name</th>\n",
       "      <th>Transported</th>\n",
       "    </tr>\n",
       "  </thead>\n",
       "  <tbody>\n",
       "    <tr>\n",
       "      <th>0</th>\n",
       "      <td>0001_01</td>\n",
       "      <td>Europa</td>\n",
       "      <td>False</td>\n",
       "      <td>B/0/P</td>\n",
       "      <td>TRAPPIST-1e</td>\n",
       "      <td>39.0</td>\n",
       "      <td>False</td>\n",
       "      <td>0.0</td>\n",
       "      <td>0.0</td>\n",
       "      <td>0.0</td>\n",
       "      <td>0.0</td>\n",
       "      <td>0.0</td>\n",
       "      <td>Maham Ofracculy</td>\n",
       "      <td>False</td>\n",
       "    </tr>\n",
       "    <tr>\n",
       "      <th>1</th>\n",
       "      <td>0002_01</td>\n",
       "      <td>Earth</td>\n",
       "      <td>False</td>\n",
       "      <td>F/0/S</td>\n",
       "      <td>TRAPPIST-1e</td>\n",
       "      <td>24.0</td>\n",
       "      <td>False</td>\n",
       "      <td>109.0</td>\n",
       "      <td>9.0</td>\n",
       "      <td>25.0</td>\n",
       "      <td>549.0</td>\n",
       "      <td>44.0</td>\n",
       "      <td>Juanna Vines</td>\n",
       "      <td>True</td>\n",
       "    </tr>\n",
       "    <tr>\n",
       "      <th>2</th>\n",
       "      <td>0003_01</td>\n",
       "      <td>Europa</td>\n",
       "      <td>False</td>\n",
       "      <td>A/0/S</td>\n",
       "      <td>TRAPPIST-1e</td>\n",
       "      <td>58.0</td>\n",
       "      <td>True</td>\n",
       "      <td>43.0</td>\n",
       "      <td>3576.0</td>\n",
       "      <td>0.0</td>\n",
       "      <td>6715.0</td>\n",
       "      <td>49.0</td>\n",
       "      <td>Altark Susent</td>\n",
       "      <td>False</td>\n",
       "    </tr>\n",
       "    <tr>\n",
       "      <th>3</th>\n",
       "      <td>0003_02</td>\n",
       "      <td>Europa</td>\n",
       "      <td>False</td>\n",
       "      <td>A/0/S</td>\n",
       "      <td>TRAPPIST-1e</td>\n",
       "      <td>33.0</td>\n",
       "      <td>False</td>\n",
       "      <td>0.0</td>\n",
       "      <td>1283.0</td>\n",
       "      <td>371.0</td>\n",
       "      <td>3329.0</td>\n",
       "      <td>193.0</td>\n",
       "      <td>Solam Susent</td>\n",
       "      <td>False</td>\n",
       "    </tr>\n",
       "    <tr>\n",
       "      <th>4</th>\n",
       "      <td>0004_01</td>\n",
       "      <td>Earth</td>\n",
       "      <td>False</td>\n",
       "      <td>F/1/S</td>\n",
       "      <td>TRAPPIST-1e</td>\n",
       "      <td>16.0</td>\n",
       "      <td>False</td>\n",
       "      <td>303.0</td>\n",
       "      <td>70.0</td>\n",
       "      <td>151.0</td>\n",
       "      <td>565.0</td>\n",
       "      <td>2.0</td>\n",
       "      <td>Willy Santantines</td>\n",
       "      <td>True</td>\n",
       "    </tr>\n",
       "  </tbody>\n",
       "</table>\n",
       "</div>"
      ],
      "text/plain": [
       "  PassengerId HomePlanet CryoSleep  Cabin  Destination   Age    VIP  \\\n",
       "0     0001_01     Europa     False  B/0/P  TRAPPIST-1e  39.0  False   \n",
       "1     0002_01      Earth     False  F/0/S  TRAPPIST-1e  24.0  False   \n",
       "2     0003_01     Europa     False  A/0/S  TRAPPIST-1e  58.0   True   \n",
       "3     0003_02     Europa     False  A/0/S  TRAPPIST-1e  33.0  False   \n",
       "4     0004_01      Earth     False  F/1/S  TRAPPIST-1e  16.0  False   \n",
       "\n",
       "   RoomService  FoodCourt  ShoppingMall     Spa  VRDeck               Name  \\\n",
       "0          0.0        0.0           0.0     0.0     0.0    Maham Ofracculy   \n",
       "1        109.0        9.0          25.0   549.0    44.0       Juanna Vines   \n",
       "2         43.0     3576.0           0.0  6715.0    49.0      Altark Susent   \n",
       "3          0.0     1283.0         371.0  3329.0   193.0       Solam Susent   \n",
       "4        303.0       70.0         151.0   565.0     2.0  Willy Santantines   \n",
       "\n",
       "   Transported  \n",
       "0        False  \n",
       "1         True  \n",
       "2        False  \n",
       "3        False  \n",
       "4         True  "
      ]
     },
     "execution_count": 3,
     "metadata": {},
     "output_type": "execute_result"
    }
   ],
   "source": [
    "df = pd.read_csv(\"./data/input/train.csv\")\n",
    "\n",
    "df.head()"
   ]
  },
  {
   "cell_type": "code",
   "execution_count": 5,
   "id": "8f4bf69d",
   "metadata": {},
   "outputs": [
    {
     "data": {
      "text/plain": [
       "0      Ofracculy\n",
       "1          Vines\n",
       "2         Susent\n",
       "3         Susent\n",
       "4    Santantines\n",
       "Name: Name, dtype: object"
      ]
     },
     "execution_count": 5,
     "metadata": {},
     "output_type": "execute_result"
    }
   ],
   "source": [
    "\n",
    "def remove_first_name(df):\n",
    "    # remove first names of all passengers but keep last name\n",
    "    df = df.copy()\n",
    "    df.Name = df.Name.astype(str)\n",
    "    mask = lambda x : x if len(x.split()) < 2 else x.split()[1]\n",
    "    df.Name = df.Name.apply(mask)\n",
    "\n",
    "    return df\n",
    "\n",
    "df = remove_first_name(df)\n",
    "df.Name.head()"
   ]
  },
  {
   "cell_type": "markdown",
   "id": "1f63499e",
   "metadata": {
    "papermill": {
     "duration": 0.004671,
     "end_time": "2022-12-31T15:02:46.751192",
     "exception": false,
     "start_time": "2022-12-31T15:02:46.746521",
     "status": "completed"
    },
    "tags": []
   },
   "source": [
    "## Impute missing values"
   ]
  },
  {
   "cell_type": "code",
   "execution_count": 6,
   "id": "4a47d9ae",
   "metadata": {
    "execution": {
     "iopub.execute_input": "2022-12-31T15:02:46.762202Z",
     "iopub.status.busy": "2022-12-31T15:02:46.761392Z",
     "iopub.status.idle": "2022-12-31T15:02:46.785708Z",
     "shell.execute_reply": "2022-12-31T15:02:46.784315Z"
    },
    "papermill": {
     "duration": 0.032842,
     "end_time": "2022-12-31T15:02:46.788516",
     "exception": false,
     "start_time": "2022-12-31T15:02:46.755674",
     "status": "completed"
    },
    "tags": []
   },
   "outputs": [
    {
     "name": "stdout",
     "output_type": "stream",
     "text": [
      "Missing values:\n",
      "Series([], dtype: int64)\n"
     ]
    }
   ],
   "source": [
    "def impute_missing_values(df):\n",
    "    df = df.copy()\n",
    "    df.fillna({'Name': 'Unknown'}, inplace=True)\n",
    "    df.fillna(method='ffill', inplace=True)\n",
    "    return df\n",
    "\n",
    "df = impute_missing_values(df)\n",
    "missing_val_count_by_column = (df.isnull().sum())\n",
    "print(\"Missing values:\")\n",
    "print(missing_val_count_by_column[missing_val_count_by_column > 0])"
   ]
  },
  {
   "cell_type": "markdown",
   "id": "d3036899",
   "metadata": {
    "papermill": {
     "duration": 0.004226,
     "end_time": "2022-12-31T15:02:46.797429",
     "exception": false,
     "start_time": "2022-12-31T15:02:46.793203",
     "status": "completed"
    },
    "tags": []
   },
   "source": [
    "## Cast non-categorical and non-float values to int64"
   ]
  },
  {
   "cell_type": "code",
   "execution_count": 7,
   "id": "d0188fc4",
   "metadata": {
    "execution": {
     "iopub.execute_input": "2022-12-31T15:02:46.808510Z",
     "iopub.status.busy": "2022-12-31T15:02:46.808037Z",
     "iopub.status.idle": "2022-12-31T15:02:46.857581Z",
     "shell.execute_reply": "2022-12-31T15:02:46.856375Z"
    },
    "papermill": {
     "duration": 0.058359,
     "end_time": "2022-12-31T15:02:46.860504",
     "exception": false,
     "start_time": "2022-12-31T15:02:46.802145",
     "status": "completed"
    },
    "tags": []
   },
   "outputs": [
    {
     "data": {
      "text/html": [
       "<div>\n",
       "<style scoped>\n",
       "    .dataframe tbody tr th:only-of-type {\n",
       "        vertical-align: middle;\n",
       "    }\n",
       "\n",
       "    .dataframe tbody tr th {\n",
       "        vertical-align: top;\n",
       "    }\n",
       "\n",
       "    .dataframe thead th {\n",
       "        text-align: right;\n",
       "    }\n",
       "</style>\n",
       "<table border=\"1\" class=\"dataframe\">\n",
       "  <thead>\n",
       "    <tr style=\"text-align: right;\">\n",
       "      <th></th>\n",
       "      <th>PassengerId</th>\n",
       "      <th>HomePlanet</th>\n",
       "      <th>CryoSleep</th>\n",
       "      <th>Cabin</th>\n",
       "      <th>Destination</th>\n",
       "      <th>Age</th>\n",
       "      <th>VIP</th>\n",
       "      <th>RoomService</th>\n",
       "      <th>FoodCourt</th>\n",
       "      <th>ShoppingMall</th>\n",
       "      <th>Spa</th>\n",
       "      <th>VRDeck</th>\n",
       "      <th>Name</th>\n",
       "      <th>Transported</th>\n",
       "    </tr>\n",
       "  </thead>\n",
       "  <tbody>\n",
       "    <tr>\n",
       "      <th>0</th>\n",
       "      <td>0001_01</td>\n",
       "      <td>Europa</td>\n",
       "      <td>0</td>\n",
       "      <td>B/0/P</td>\n",
       "      <td>TRAPPIST-1e</td>\n",
       "      <td>39.0</td>\n",
       "      <td>0</td>\n",
       "      <td>0.0</td>\n",
       "      <td>0.0</td>\n",
       "      <td>0.0</td>\n",
       "      <td>0.0</td>\n",
       "      <td>0.0</td>\n",
       "      <td>Ofracculy</td>\n",
       "      <td>0</td>\n",
       "    </tr>\n",
       "    <tr>\n",
       "      <th>1</th>\n",
       "      <td>0002_01</td>\n",
       "      <td>Earth</td>\n",
       "      <td>0</td>\n",
       "      <td>F/0/S</td>\n",
       "      <td>TRAPPIST-1e</td>\n",
       "      <td>24.0</td>\n",
       "      <td>0</td>\n",
       "      <td>109.0</td>\n",
       "      <td>9.0</td>\n",
       "      <td>25.0</td>\n",
       "      <td>549.0</td>\n",
       "      <td>44.0</td>\n",
       "      <td>Vines</td>\n",
       "      <td>1</td>\n",
       "    </tr>\n",
       "    <tr>\n",
       "      <th>2</th>\n",
       "      <td>0003_01</td>\n",
       "      <td>Europa</td>\n",
       "      <td>0</td>\n",
       "      <td>A/0/S</td>\n",
       "      <td>TRAPPIST-1e</td>\n",
       "      <td>58.0</td>\n",
       "      <td>1</td>\n",
       "      <td>43.0</td>\n",
       "      <td>3576.0</td>\n",
       "      <td>0.0</td>\n",
       "      <td>6715.0</td>\n",
       "      <td>49.0</td>\n",
       "      <td>Susent</td>\n",
       "      <td>0</td>\n",
       "    </tr>\n",
       "    <tr>\n",
       "      <th>3</th>\n",
       "      <td>0003_02</td>\n",
       "      <td>Europa</td>\n",
       "      <td>0</td>\n",
       "      <td>A/0/S</td>\n",
       "      <td>TRAPPIST-1e</td>\n",
       "      <td>33.0</td>\n",
       "      <td>0</td>\n",
       "      <td>0.0</td>\n",
       "      <td>1283.0</td>\n",
       "      <td>371.0</td>\n",
       "      <td>3329.0</td>\n",
       "      <td>193.0</td>\n",
       "      <td>Susent</td>\n",
       "      <td>0</td>\n",
       "    </tr>\n",
       "    <tr>\n",
       "      <th>4</th>\n",
       "      <td>0004_01</td>\n",
       "      <td>Earth</td>\n",
       "      <td>0</td>\n",
       "      <td>F/1/S</td>\n",
       "      <td>TRAPPIST-1e</td>\n",
       "      <td>16.0</td>\n",
       "      <td>0</td>\n",
       "      <td>303.0</td>\n",
       "      <td>70.0</td>\n",
       "      <td>151.0</td>\n",
       "      <td>565.0</td>\n",
       "      <td>2.0</td>\n",
       "      <td>Santantines</td>\n",
       "      <td>1</td>\n",
       "    </tr>\n",
       "  </tbody>\n",
       "</table>\n",
       "</div>"
      ],
      "text/plain": [
       "  PassengerId HomePlanet  CryoSleep  Cabin  Destination   Age  VIP  \\\n",
       "0     0001_01     Europa          0  B/0/P  TRAPPIST-1e  39.0    0   \n",
       "1     0002_01      Earth          0  F/0/S  TRAPPIST-1e  24.0    0   \n",
       "2     0003_01     Europa          0  A/0/S  TRAPPIST-1e  58.0    1   \n",
       "3     0003_02     Europa          0  A/0/S  TRAPPIST-1e  33.0    0   \n",
       "4     0004_01      Earth          0  F/1/S  TRAPPIST-1e  16.0    0   \n",
       "\n",
       "   RoomService  FoodCourt  ShoppingMall     Spa  VRDeck         Name  \\\n",
       "0          0.0        0.0           0.0     0.0     0.0    Ofracculy   \n",
       "1        109.0        9.0          25.0   549.0    44.0        Vines   \n",
       "2         43.0     3576.0           0.0  6715.0    49.0       Susent   \n",
       "3          0.0     1283.0         371.0  3329.0   193.0       Susent   \n",
       "4        303.0       70.0         151.0   565.0     2.0  Santantines   \n",
       "\n",
       "   Transported  \n",
       "0            0  \n",
       "1            1  \n",
       "2            0  \n",
       "3            0  \n",
       "4            1  "
      ]
     },
     "execution_count": 7,
     "metadata": {},
     "output_type": "execute_result"
    }
   ],
   "source": [
    "\n",
    "def preprocess(df, has_target=True):\n",
    "    df = df.copy()\n",
    "    df.replace(to_replace=True,value=1,inplace=True)\n",
    "    df.replace(to_replace=False,value=0,inplace=True)\n",
    "    df['CryoSleep']= df['CryoSleep'].astype(np.int64)\n",
    "    df['VIP']= df['VIP'].astype(np.int64)\n",
    "\n",
    "    if has_target:\n",
    "        df['Transported'] = df['Transported'].astype(np.int64)\n",
    "    \n",
    "    return df\n",
    "\n",
    "df = preprocess(df)\n",
    "df.head()"
   ]
  },
  {
   "cell_type": "markdown",
   "id": "3cd56cb5",
   "metadata": {
    "papermill": {
     "duration": 0.004611,
     "end_time": "2022-12-31T15:02:46.870632",
     "exception": false,
     "start_time": "2022-12-31T15:02:46.866021",
     "status": "completed"
    },
    "tags": []
   },
   "source": [
    "# **2. Building and testing model using sklearn RandomForestClassifier**"
   ]
  },
  {
   "cell_type": "markdown",
   "id": "4c5d7cdb",
   "metadata": {
    "papermill": {
     "duration": 0.005649,
     "end_time": "2022-12-31T15:02:46.881276",
     "exception": false,
     "start_time": "2022-12-31T15:02:46.875627",
     "status": "completed"
    },
    "tags": []
   },
   "source": [
    "### *Importing dependencies*"
   ]
  },
  {
   "cell_type": "code",
   "execution_count": 14,
   "id": "c9c1c452",
   "metadata": {},
   "outputs": [],
   "source": [
    "# install packages if necessary\n",
    "!pip3 install category_encoders\n",
    "!pip3 install seaborn"
   ]
  },
  {
   "cell_type": "code",
   "execution_count": 10,
   "id": "a62cf619",
   "metadata": {
    "execution": {
     "iopub.execute_input": "2022-12-31T15:02:46.894948Z",
     "iopub.status.busy": "2022-12-31T15:02:46.894500Z",
     "iopub.status.idle": "2022-12-31T15:02:47.482138Z",
     "shell.execute_reply": "2022-12-31T15:02:47.480865Z"
    },
    "papermill": {
     "duration": 0.598147,
     "end_time": "2022-12-31T15:02:47.485021",
     "exception": false,
     "start_time": "2022-12-31T15:02:46.886874",
     "status": "completed"
    },
    "tags": []
   },
   "outputs": [],
   "source": [
    "from sklearn.ensemble import RandomForestClassifier\n",
    "import category_encoders as ce\n",
    "import seaborn as sns\n",
    "from sklearn.metrics import accuracy_score"
   ]
  },
  {
   "cell_type": "markdown",
   "id": "3569222a",
   "metadata": {
    "papermill": {
     "duration": 0.004556,
     "end_time": "2022-12-31T15:02:47.494500",
     "exception": false,
     "start_time": "2022-12-31T15:02:47.489944",
     "status": "completed"
    },
    "tags": []
   },
   "source": [
    "### *Building the model*"
   ]
  },
  {
   "cell_type": "code",
   "execution_count": 12,
   "id": "6d6e118d",
   "metadata": {
    "execution": {
     "iopub.execute_input": "2022-12-31T15:02:47.506303Z",
     "iopub.status.busy": "2022-12-31T15:02:47.505841Z",
     "iopub.status.idle": "2022-12-31T15:02:49.209136Z",
     "shell.execute_reply": "2022-12-31T15:02:49.207931Z"
    },
    "papermill": {
     "duration": 1.712105,
     "end_time": "2022-12-31T15:02:49.211559",
     "exception": false,
     "start_time": "2022-12-31T15:02:47.499454",
     "status": "completed"
    },
    "tags": []
   },
   "outputs": [
    {
     "name": "stdout",
     "output_type": "stream",
     "text": [
      "The model has an accuray score of : 0.7740080506037953\n"
     ]
    },
    {
     "data": {
      "image/png": "[encoded data removed]",
      "text/plain": [
       "<Figure size 640x480 with 1 Axes>"
      ]
     },
     "metadata": {},
     "output_type": "display_data"
    }
   ],
   "source": [
    "# Split data into training and testing data\n",
    "\n",
    "features = df.drop(\"Transported\", axis=1)\n",
    "target = df.get(\"Transported\")\n",
    "X_train, X_test, y_train, y_test = train_test_split(features,target,test_size=0.2,random_state=1337)\n",
    "X_train.shape, X_test.shape\n",
    "\n",
    "# One-hot encode categorical data\n",
    "categorical_cols = df.select_dtypes(include=object).columns\n",
    "encoder = ce.OrdinalEncoder(cols=categorical_cols)\n",
    "X_train = encoder.fit_transform(X_train)\n",
    "X_test = encoder.transform(X_test)\n",
    "\n",
    "# RandomForestClassifier\n",
    "\n",
    "model = RandomForestClassifier(random_state=1)\n",
    "model.fit(X_train, y_train)\n",
    "\n",
    "# Test model\n",
    "\n",
    "y_pred = model.predict(X_test)\n",
    "feature_scores = pd.Series(model.feature_importances_, index=X_train.columns).sort_values(ascending=False)\n",
    "\n",
    "# Visualize feature scores\n",
    "sns.barplot(x=feature_scores,y=feature_scores.index)\n",
    "\n",
    "print(f\"The model has an accuray score of : {accuracy_score(y_test, y_pred)}\")"
   ]
  },
  {
   "cell_type": "markdown",
   "id": "d247c087",
   "metadata": {
    "papermill": {
     "duration": 0.005378,
     "end_time": "2022-12-31T15:02:49.222131",
     "exception": false,
     "start_time": "2022-12-31T15:02:49.216753",
     "status": "completed"
    },
    "tags": []
   },
   "source": [
    "### *Making predictions on test.csv*"
   ]
  },
  {
   "cell_type": "code",
   "execution_count": 13,
   "id": "3b4c9284",
   "metadata": {
    "execution": {
     "iopub.execute_input": "2022-12-31T15:02:49.235465Z",
     "iopub.status.busy": "2022-12-31T15:02:49.235016Z",
     "iopub.status.idle": "2022-12-31T15:02:49.448933Z",
     "shell.execute_reply": "2022-12-31T15:02:49.447665Z"
    },
    "papermill": {
     "duration": 0.224161,
     "end_time": "2022-12-31T15:02:49.451584",
     "exception": false,
     "start_time": "2022-12-31T15:02:49.227423",
     "status": "completed"
    },
    "tags": []
   },
   "outputs": [
    {
     "name": "stdout",
     "output_type": "stream",
     "text": [
      "PassengerId    4277\n",
      "Transported    4277\n",
      "dtype: int64\n"
     ]
    },
    {
     "data": {
      "text/html": [
       "<div>\n",
       "<style scoped>\n",
       "    .dataframe tbody tr th:only-of-type {\n",
       "        vertical-align: middle;\n",
       "    }\n",
       "\n",
       "    .dataframe tbody tr th {\n",
       "        vertical-align: top;\n",
       "    }\n",
       "\n",
       "    .dataframe thead th {\n",
       "        text-align: right;\n",
       "    }\n",
       "</style>\n",
       "<table border=\"1\" class=\"dataframe\">\n",
       "  <thead>\n",
       "    <tr style=\"text-align: right;\">\n",
       "      <th></th>\n",
       "      <th>PassengerId</th>\n",
       "      <th>Transported</th>\n",
       "    </tr>\n",
       "  </thead>\n",
       "  <tbody>\n",
       "    <tr>\n",
       "      <th>0</th>\n",
       "      <td>0013_01</td>\n",
       "      <td>True</td>\n",
       "    </tr>\n",
       "    <tr>\n",
       "      <th>1</th>\n",
       "      <td>0018_01</td>\n",
       "      <td>False</td>\n",
       "    </tr>\n",
       "    <tr>\n",
       "      <th>2</th>\n",
       "      <td>0019_01</td>\n",
       "      <td>True</td>\n",
       "    </tr>\n",
       "    <tr>\n",
       "      <th>3</th>\n",
       "      <td>0021_01</td>\n",
       "      <td>True</td>\n",
       "    </tr>\n",
       "    <tr>\n",
       "      <th>4</th>\n",
       "      <td>0023_01</td>\n",
       "      <td>True</td>\n",
       "    </tr>\n",
       "  </tbody>\n",
       "</table>\n",
       "</div>"
      ],
      "text/plain": [
       "  PassengerId  Transported\n",
       "0     0013_01         True\n",
       "1     0018_01        False\n",
       "2     0019_01         True\n",
       "3     0021_01         True\n",
       "4     0023_01         True"
      ]
     },
     "execution_count": 13,
     "metadata": {},
     "output_type": "execute_result"
    }
   ],
   "source": [
    "# Predict on test data\n",
    "df_test = pd.read_csv(\"./data/input/test.csv\")\n",
    "df_test = remove_first_name(df_test)\n",
    "df_test = impute_missing_values(df_test)\n",
    "df_test = preprocess(df_test, False)\n",
    "X_test = encoder.fit_transform(df_test)\n",
    "pred = model.predict(X_test)\n",
    "\n",
    "df = pd.DataFrame()\n",
    "df[\"PassengerId\"] = df_test.PassengerId.astype(str)\n",
    "df[\"Transported\"] = pred\n",
    "df.replace({0:False, 1:True}, inplace=True)\n",
    "df.to_csv(\"./data/output/submission_titanic.csv\")\n",
    "print(df.count())\n",
    "\n",
    "df.head()"
   ]
  },
  {
   "cell_type": "markdown",
   "id": "3c3560b4",
   "metadata": {
    "papermill": {
     "duration": 0.005085,
     "end_time": "2022-12-31T15:02:49.462033",
     "exception": false,
     "start_time": "2022-12-31T15:02:49.456948",
     "status": "completed"
    },
    "tags": []
   },
   "source": []
  }
 ],
 "metadata": {
  "kernelspec": {
   "display_name": "Python 3.9.13 64-bit (microsoft store)",
   "language": "python",
   "name": "python3"
  },
  "language_info": {
   "codemirror_mode": {
    "name": "ipython",
    "version": 3
   },
   "file_extension": ".py",
   "mimetype": "text/x-python",
   "name": "python",
   "nbconvert_exporter": "python",
   "pygments_lexer": "ipython3",
   "version": "3.9.13"
  },
  "papermill": {
   "default_parameters": {},
   "duration": 22.18271,
   "end_time": "2022-12-31T15:02:52.704443",
   "environment_variables": {},
   "exception": null,
   "input_path": "__notebook__.ipynb",
   "output_path": "__notebook__.ipynb",
   "parameters": {},
   "start_time": "2022-12-31T15:02:30.521733",
   "version": "2.3.4"
  },
  "vscode": {
   "interpreter": {
    "hash": "bd6e99c36a22d9caf7b5eab13a95b9c569b094096949cab26c11c4948e3ad732"
   }
  }
 },
 "nbformat": 4,
 "nbformat_minor": 5
}
